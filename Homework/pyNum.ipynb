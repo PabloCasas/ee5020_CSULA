{
 "cells": [
  {
   "cell_type": "markdown",
   "metadata": {},
   "source": [
    "# Problem 1"
   ]
  },
  {
   "cell_type": "code",
   "execution_count": 1,
   "metadata": {},
   "outputs": [
    {
     "name": "stdout",
     "output_type": "stream",
     "text": [
      "I love Python\n"
     ]
    }
   ],
   "source": [
    "# Problem 1\n",
    "print(\"I love Python\")"
   ]
  },
  {
   "cell_type": "code",
   "execution_count": 3,
   "metadata": {},
   "outputs": [],
   "source": [
    "#Problem3 \n",
    "import antigravity"
   ]
  },
  {
   "cell_type": "code",
   "execution_count": 29,
   "metadata": {},
   "outputs": [
    {
     "name": "stdout",
     "output_type": "stream",
     "text": [
      "60.0\n"
     ]
    }
   ],
   "source": [
    "# Problem 5\n",
    "b = 10\n",
    "h = 12\n",
    "a = (b*h)/2\n",
    "print(a)"
   ]
  },
  {
   "cell_type": "code",
   "execution_count": 31,
   "metadata": {},
   "outputs": [
    {
     "name": "stdout",
     "output_type": "stream",
     "text": [
      "251.32741228718345 square units\n"
     ]
    }
   ],
   "source": [
    "# PRoblem 6\n",
    "# Area of cylinder\n",
    "import numpy as np\n",
    "h = 3\n",
    "r = 5\n",
    "A = 2*np.pi*h*r + 2*np.pi*r**2\n",
    "print(str(A)+\" square units\")"
   ]
  },
  {
   "cell_type": "code",
   "execution_count": 32,
   "metadata": {},
   "outputs": [
    {
     "name": "stdout",
     "output_type": "stream",
     "text": [
      "1\n",
      "2\n",
      "size of iterator datatype: <list_iterator object at 0x7a7e9c07ec50> \n"
     ]
    }
   ],
   "source": [
    "# Notes on iterators and iterables\n",
    "my_it = [1,2,3]\n",
    "my_iterator = iter(my_it)\n",
    "print(next(my_iterator))\n",
    "print(next(my_iterator))\n",
    "print(f\"size of iterator datatype: {my_iterator} \")"
   ]
  },
  {
   "cell_type": "code",
   "execution_count": 33,
   "metadata": {},
   "outputs": [
    {
     "name": "stdout",
     "output_type": "stream",
     "text": [
      "size of iterator datatype: 48 \n"
     ]
    }
   ],
   "source": [
    "import sys\n",
    "type(my_iterator)\n",
    "s = sys.getsizeof(my_iterator)\n",
    "print(f\"size of iterator datatype: {s} \")\n",
    "\n"
   ]
  },
  {
   "cell_type": "code",
   "execution_count": 34,
   "metadata": {},
   "outputs": [
    {
     "name": "stdout",
     "output_type": "stream",
     "text": [
      "2.5\n"
     ]
    },
    {
     "data": {
      "text/plain": [
       "float"
      ]
     },
     "execution_count": 34,
     "metadata": {},
     "output_type": "execute_result"
    }
   ],
   "source": [
    "# Problem 7, finding slope between 2 points\n",
    "from typing import Iterable, Tuple\n",
    "def slope (coord1: Tuple[float, float], coord2: Tuple[float, float])-> float:\n",
    "    return (coord2[1]-coord1[1])/(coord2[0]-coord1[0])\n",
    "\n",
    "ans = slope((3,4),(5,9))\n",
    "print(ans)\n",
    "type(ans)\n",
    "    "
   ]
  },
  {
   "cell_type": "code",
   "execution_count": 50,
   "metadata": {},
   "outputs": [
    {
     "name": "stdout",
     "output_type": "stream",
     "text": [
      "5.385164807134504\n"
     ]
    },
    {
     "data": {
      "text/plain": [
       "numpy.float64"
      ]
     },
     "execution_count": 50,
     "metadata": {},
     "output_type": "execute_result"
    }
   ],
   "source": [
    "# Problem 8\n",
    "from typing import Iterable, Tuple\n",
    "import numpy as np\n",
    "\n",
    "def dist (coord1: Tuple[float,float],coord2: Tuple[float,float])->float:\n",
    "    return np.sqrt((coord2[0]-coord1[0])**2 + (coord2[1]-coord1[1])**2)\n",
    "ans = dist((3.,4.),(5.,9.))\n",
    "print(ans)\n",
    "type(ans)"
   ]
  },
  {
   "cell_type": "code",
   "execution_count": 53,
   "metadata": {},
   "outputs": [
    {
     "name": "stdout",
     "output_type": "stream",
     "text": [
      "720\n"
     ]
    }
   ],
   "source": [
    "# Problem 9\n",
    "import math\n",
    "print(math.factorial(6))"
   ]
  },
  {
   "cell_type": "code",
   "execution_count": 68,
   "metadata": {},
   "outputs": [
    {
     "name": "stdout",
     "output_type": "stream",
     "text": [
      "375.0\n",
      "15.0\n",
      "3.75\n",
      "128\n",
      "6\n",
      "[1500 1600 1700 1800 1900 2000]\n",
      "2\n",
      "[1600 2000]\n"
     ]
    }
   ],
   "source": [
    "# PRob 10\n",
    "import numpy as np\n",
    "print(str(1500/4))\n",
    "print(str(1500/100))\n",
    "print(str(1500/400))\n",
    "result_4 = np.array([m for m in range(1500,2010+1, 4)])\n",
    "result_100 = np.array([m for m in range(1500,2010+1, 100)])\n",
    "result_400 = np.array([m for m in range(1600,2010+1, 400)])\n",
    "print(result_4.size)\n",
    "print(result_100.size)\n",
    "print(result_100)\n",
    "print(result_400.size)\n",
    "print(result_400)"
   ]
  },
  {
   "cell_type": "code",
   "execution_count": null,
   "metadata": {},
   "outputs": [],
   "source": []
  }
 ],
 "metadata": {
  "kernelspec": {
   "display_name": "Python 3 (ipykernel)",
   "language": "python",
   "name": "python3"
  },
  "language_info": {
   "codemirror_mode": {
    "name": "ipython",
    "version": 3
   },
   "file_extension": ".py",
   "mimetype": "text/x-python",
   "name": "python",
   "nbconvert_exporter": "python",
   "pygments_lexer": "ipython3",
   "version": "3.12.5"
  }
 },
 "nbformat": 4,
 "nbformat_minor": 4
}
